{
 "cells": [
  {
   "cell_type": "code",
   "execution_count": 1,
   "metadata": {
    "ExecuteTime": {
     "end_time": "2019-10-03T02:35:01.492255Z",
     "start_time": "2019-10-03T02:35:01.490410Z"
    }
   },
   "outputs": [],
   "source": [
    "import numpy as np\n",
    "import pickle"
   ]
  },
  {
   "cell_type": "code",
   "execution_count": 2,
   "metadata": {
    "ExecuteTime": {
     "end_time": "2019-10-03T02:36:01.790475Z",
     "start_time": "2019-10-03T02:36:01.543478Z"
    }
   },
   "outputs": [],
   "source": [
    "w1 = '/home/dk/Desktop/w1.pkl'\n",
    "w2 = '/home/dk/Desktop/w2.pkl'\n",
    "\n",
    "l1 = pickle.load(open(w1, 'rb'))\n",
    "l2 = pickle.load(open(w2, 'rb'))"
   ]
  },
  {
   "cell_type": "code",
   "execution_count": 3,
   "metadata": {
    "ExecuteTime": {
     "end_time": "2019-10-03T02:36:46.291385Z",
     "start_time": "2019-10-03T02:36:46.167138Z"
    }
   },
   "outputs": [],
   "source": [
    "mse = []\n",
    "\n",
    "for i in range(len(l1)):\n",
    "    mse.append(np.mean(np.square(l1[i] - l2[i])))"
   ]
  },
  {
   "cell_type": "code",
   "execution_count": 4,
   "metadata": {
    "ExecuteTime": {
     "end_time": "2019-10-03T02:36:54.694850Z",
     "start_time": "2019-10-03T02:36:54.690731Z"
    }
   },
   "outputs": [
    {
     "name": "stdout",
     "output_type": "stream",
     "text": [
      "[0.022828905, 2.5271072, 10.983665, 0.001521847, 0.7170968, 0.002209817, 0.94743764, 2.0676303, 1.2064202, 1.0073963, 0.00095540844, 0.43249607, 0.8568469, 1.0365558, 0.21721765, 0.0038384623, 1.2556307, 1.7349613, 0.16849995, 0.72623736, 0.00093975733, 0.7872393, 2.3384643, 0.88102955, 0.20197871, 0.00044472117, 0.14634894, 1.2178617, 0.3403942, 0.1816866, 0.0019931102, 0.58424574, 0.77911997, 0.096123464, 0.78322977, 0.00044787195, 0.3480997, 3.378514, 1.0392087, 0.1674108, 0.00021429296, 0.04989615, 1.5424349, 0.09859048, 0.49548686, 0.0009426515, 0.19899836, 1.0514363, 0.01821149, 0.909681, 0.00020301476, 0.06700786, 0.6224611, 0.19015703, 0.5757915, 0.0009448244, 0.16487655, 0.565169, 0.12412461, 0.83834887, 0.0002153544, 0.06840814, 3.1623616, 0.19236618, 0.5150597, 0.00010811722, 0.041877393, 1.3804928, 0.0297671, 0.7946777, 0.00050286856, 0.08610826, 1.4906559, 0.010457387, 0.952253, 0.00010634184, 0.038955845, 1.3756428, 0.07411401, 0.83065367, 0.00051452697, 0.19617042, 2.9416404, 0.0039611417, 0.9317526, 9.025839e-05, 12.657301, 10.297586, 0.008315179, 0.9573628, 7.244442e-05, 0.34107438, 3.5724718e-06, 0.15490702, 1.7245723, 7.213711e-05, 0.34202415, 8.484834e-06, 0.0745747, 0.89425915, 0.0012802423, 0.28011745, 4.2445834e-05, 0.00887532, 0.92357683, 5.7873902e-05, 0.32824558, 0.0009171501, 0.052833218, 0.9057822, 0.0010206125]\n"
     ]
    }
   ],
   "source": [
    "print(mse)"
   ]
  },
  {
   "cell_type": "code",
   "execution_count": 5,
   "metadata": {
    "ExecuteTime": {
     "end_time": "2019-10-03T02:37:07.761360Z",
     "start_time": "2019-10-03T02:37:07.753215Z"
    }
   },
   "outputs": [
    {
     "data": {
      "text/plain": [
       "4.259228"
      ]
     },
     "execution_count": 5,
     "metadata": {},
     "output_type": "execute_result"
    }
   ],
   "source": [
    "np.mean(np.square(mse))"
   ]
  },
  {
   "cell_type": "code",
   "execution_count": null,
   "metadata": {},
   "outputs": [],
   "source": []
  }
 ],
 "metadata": {
  "kernelspec": {
   "display_name": "Python 3",
   "language": "python",
   "name": "python3"
  },
  "language_info": {
   "codemirror_mode": {
    "name": "ipython",
    "version": 3
   },
   "file_extension": ".py",
   "mimetype": "text/x-python",
   "name": "python",
   "nbconvert_exporter": "python",
   "pygments_lexer": "ipython3",
   "version": "3.6.8"
  },
  "toc": {
   "base_numbering": 1,
   "nav_menu": {},
   "number_sections": true,
   "sideBar": true,
   "skip_h1_title": false,
   "title_cell": "Table of Contents",
   "title_sidebar": "Contents",
   "toc_cell": false,
   "toc_position": {},
   "toc_section_display": true,
   "toc_window_display": false
  },
  "varInspector": {
   "cols": {
    "lenName": 16,
    "lenType": 16,
    "lenVar": 40
   },
   "kernels_config": {
    "python": {
     "delete_cmd_postfix": "",
     "delete_cmd_prefix": "del ",
     "library": "var_list.py",
     "varRefreshCmd": "print(var_dic_list())"
    },
    "r": {
     "delete_cmd_postfix": ") ",
     "delete_cmd_prefix": "rm(",
     "library": "var_list.r",
     "varRefreshCmd": "cat(var_dic_list()) "
    }
   },
   "types_to_exclude": [
    "module",
    "function",
    "builtin_function_or_method",
    "instance",
    "_Feature"
   ],
   "window_display": false
  }
 },
 "nbformat": 4,
 "nbformat_minor": 2
}
