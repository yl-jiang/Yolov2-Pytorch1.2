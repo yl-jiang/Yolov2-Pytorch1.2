{
 "cells": [
  {
   "cell_type": "code",
   "execution_count": 2,
   "metadata": {},
   "outputs": [],
   "source": [
    "from mAP import mAP\n",
    "import pickle\n",
    "from pathlib import Path"
   ]
  },
  {
   "cell_type": "markdown",
   "metadata": {},
   "source": [
    "## yolov2 loss & nms all class"
   ]
  },
  {
   "cell_type": "code",
   "execution_count": 10,
   "metadata": {},
   "outputs": [
    {
     "name": "stdout",
     "output_type": "stream",
     "text": [
      "AP= 43.436\n",
      "MAP= 40.804\n"
     ]
    }
   ],
   "source": [
    "box_dir = Path('/home/dk/ML/V2/VOC/result/yolov2_loss_nms_all_class_mAP.pkl')\n",
    "box_dict = pickle.load(open(box_dir, 'rb'))\n",
    "gt_boxes = box_dict['gt_boxes']\n",
    "pred_boxes = box_dict['pred_boxes']\n",
    "MAP = mAP(pred_boxes, gt_boxes, 0.5)\n",
    "\n",
    "print(f'AP= {MAP.elevenPointAP * 100:.3f}')\n",
    "print(f'MAP= {MAP.everyPointAP * 100:.3f}')"
   ]
  },
  {
   "cell_type": "markdown",
   "metadata": {},
   "source": [
    "## yolov2 loss & nms each class"
   ]
  },
  {
   "cell_type": "code",
   "execution_count": 9,
   "metadata": {},
   "outputs": [
    {
     "name": "stdout",
     "output_type": "stream",
     "text": [
      "AP= 43.514\n",
      "MAP= 41.190\n"
     ]
    }
   ],
   "source": [
    "box_dir = Path('/home/dk/ML/V2/VOC/result/yolov2_loss_nms_each_class_mAP.pkl')\n",
    "box_dict = pickle.load(open(box_dir, 'rb'))\n",
    "gt_boxes = box_dict['gt_boxes']\n",
    "pred_boxes = box_dict['pred_boxes']\n",
    "MAP = mAP(pred_boxes, gt_boxes, 0.5)\n",
    "\n",
    "print(f'AP= {MAP.elevenPointAP * 100:.3f}')\n",
    "print(f'MAP= {MAP.everyPointAP * 100:.3f}')"
   ]
  },
  {
   "cell_type": "markdown",
   "metadata": {},
   "source": [
    "## yolov3 loss & nms all class"
   ]
  },
  {
   "cell_type": "code",
   "execution_count": 15,
   "metadata": {},
   "outputs": [
    {
     "name": "stdout",
     "output_type": "stream",
     "text": [
      "AP= 39.932\n",
      "MAP= 41.102\n"
     ]
    }
   ],
   "source": [
    "box_dir = Path('/home/dk/ML/V2/VOC/result/yolov3_loss_nms_all_class_mAP.pkl')\n",
    "box_dict = pickle.load(open(box_dir, 'rb'))\n",
    "gt_boxes = box_dict['gt_boxes']\n",
    "pred_boxes = box_dict['pred_boxes']\n",
    "MAP = mAP(pred_boxes, gt_boxes, 0.5)\n",
    "\n",
    "print(f'AP= {MAP.elevenPointAP * 100:.3f}')\n",
    "print(f'MAP= {MAP.everyPointAP * 100:.3f}')"
   ]
  },
  {
   "cell_type": "markdown",
   "metadata": {},
   "source": [
    "## yolov3 loss & nms each class"
   ]
  },
  {
   "cell_type": "code",
   "execution_count": 17,
   "metadata": {},
   "outputs": [
    {
     "name": "stdout",
     "output_type": "stream",
     "text": [
      "AP= 39.895\n",
      "MAP= 41.292\n"
     ]
    }
   ],
   "source": [
    "box_dir = Path('/home/dk/ML/V2/VOC/result/yolov3_loss_nms_each_class_mAP.pkl')\n",
    "box_dict = pickle.load(open(box_dir, 'rb'))\n",
    "gt_boxes = box_dict['gt_boxes']\n",
    "pred_boxes = box_dict['pred_boxes']\n",
    "MAP = mAP(pred_boxes, gt_boxes, 0.5)\n",
    "\n",
    "print(f'AP= {MAP.elevenPointAP * 100:.3f}')\n",
    "print(f'MAP= {MAP.everyPointAP * 100:.3f}')"
   ]
  },
  {
   "cell_type": "code",
   "execution_count": null,
   "metadata": {},
   "outputs": [],
   "source": []
  }
 ],
 "metadata": {
  "kernelspec": {
   "display_name": "Python 3",
   "language": "python",
   "name": "python3"
  },
  "language_info": {
   "codemirror_mode": {
    "name": "ipython",
    "version": 3
   },
   "file_extension": ".py",
   "mimetype": "text/x-python",
   "name": "python",
   "nbconvert_exporter": "python",
   "pygments_lexer": "ipython3",
   "version": "3.7.5"
  }
 },
 "nbformat": 4,
 "nbformat_minor": 2
}
